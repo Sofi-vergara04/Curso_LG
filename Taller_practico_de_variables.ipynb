{
  "nbformat": 4,
  "nbformat_minor": 0,
  "metadata": {
    "colab": {
      "provenance": []
    },
    "kernelspec": {
      "name": "python3",
      "display_name": "Python 3"
    },
    "language_info": {
      "name": "python"
    }
  },
  "cells": [
    {
      "cell_type": "markdown",
      "source": [
        "### Taller Práctico: Variables en Python para Ingeniería Financiera\n",
        "\n",
        "# Introducción\n",
        "# En este taller, aprenderás a utilizar diferentes tipos de variables en Python\n",
        "# a través de ejercicios prácticos aplicados a escenarios financieros."
      ],
      "metadata": {
        "id": "Bo6nh2CyULcw"
      }
    },
    {
      "cell_type": "code",
      "source": [
        "# Ejercicio 1: Variables tipo string\n",
        "# Contexto: Un banco necesita almacenar el nombre de sus clientes. almacena 5 clientes en 5 variables diferentes\n"
      ],
      "metadata": {
        "id": "5jA7bjhcXcWI"
      },
      "execution_count": null,
      "outputs": []
    },
    {
      "cell_type": "markdown",
      "source": [
        "Resultado:"
      ],
      "metadata": {
        "id": "GmV9EQUzXuWv"
      }
    },
    {
      "cell_type": "code",
      "source": [
        "#Ingrese codigo aquí\n",
        "nom1=\"Sara Garcia\"\n",
        "nom2=\"Sofia Herrera\"\n",
        "nom3=\"Juan Salazar\"\n",
        "nom4=\"Santiago Marin\"\n",
        "nom5=\"Cristian Giraldo\"\n",
        "print(\"el nombre del cliente es:\",nom1,)\n",
        "print(\"el nombre del cliente es:\",nom2,)\n",
        "print(\"el nombre del cliente es:\",nom3,)\n",
        "print(\"el nombre del cliente es:\",nom4,)\n",
        "print(\"el nombre del cliente es:\",nom5,)\n",
        "\n"
      ],
      "metadata": {
        "id": "jA7Qhj2tXwBN",
        "outputId": "3094109d-b1e3-4cd2-92bf-cbe0a367b1a0",
        "colab": {
          "base_uri": "https://localhost:8080/"
        }
      },
      "execution_count": 10,
      "outputs": [
        {
          "output_type": "stream",
          "name": "stdout",
          "text": [
            "el nombre del cliente es: Sara Garcia\n",
            "el nombre del cliente es: Sofia Herrera\n",
            "el nombre del cliente es: Juan Salazar\n",
            "el nombre del cliente es: Santiago Marin\n",
            "el nombre del cliente es: Cristian Giraldo\n"
          ]
        }
      ]
    },
    {
      "cell_type": "code",
      "source": [
        "# Ejercicio 2: Concatenación de Strings\n",
        "# Contexto: Al generar reportes, el banco quiere mostrar el tipo de cuenta junto al nombre del cliente. realiza el ejercicio para las 5 variables\n"
      ],
      "metadata": {
        "id": "Sx7DMAgIX2xG"
      },
      "execution_count": null,
      "outputs": []
    },
    {
      "cell_type": "markdown",
      "source": [
        "Resultado"
      ],
      "metadata": {
        "id": "MgijW_JIX8Lu"
      }
    },
    {
      "cell_type": "code",
      "source": [
        "# Ingresa código aqui\n",
        "Tipo_Cuenta= \"Cuenta Ahorros\"\n",
        "Tipo_Cuenta2= \"Cuenta Corriente\"\n",
        "Tipo_Cuenta3= \"Ahorro a la mano\"\n",
        "Tipo_Cuenta4= \"Bonos\"\n",
        "Tipo_Cuenta5 = \"Cheques\"\n",
        "reporte_cliente1=nom1+\" \"+Tipo_Cuenta\n",
        "reporte_cliente2=nom2+\" \"+Tipo_Cuenta2\n",
        "reporte_cliente3=nom3+\" \"+Tipo_Cuenta3\n",
        "reporte_cliente4=nom4+\" \"+Tipo_Cuenta4\n",
        "reporte_cliente5=nom5+\" \"+Tipo_Cuenta5\n",
        "print(reporte_cliente1)\n",
        "print(reporte_cliente2)\n",
        "print(reporte_cliente3)\n",
        "print(reporte_cliente4)\n",
        "print(reporte_cliente5)"
      ],
      "metadata": {
        "id": "HjTub7W1X9c8",
        "outputId": "15c42d59-aaec-4a95-fc37-960babc9a85e",
        "colab": {
          "base_uri": "https://localhost:8080/"
        }
      },
      "execution_count": 13,
      "outputs": [
        {
          "output_type": "stream",
          "name": "stdout",
          "text": [
            "Sara Garcia Cuenta Ahorros\n",
            "Sofia Herrera Cuenta Corriente\n",
            "Juan Salazar Ahorro a la mano\n",
            "Santiago Marin Bonos\n",
            "Cristian Giraldo Cheques\n"
          ]
        }
      ]
    },
    {
      "cell_type": "code",
      "source": [
        "# Ejercicio 4: Formateo de Variables\n",
        "# Contexto: Un banco necesita mostrar el saldo de un cliente con formato adecuado.\n"
      ],
      "metadata": {
        "id": "BC_aRDtOYKrb"
      },
      "execution_count": null,
      "outputs": []
    },
    {
      "cell_type": "markdown",
      "source": [
        "Resultado"
      ],
      "metadata": {
        "id": "swsBPuJ3YSej"
      }
    },
    {
      "cell_type": "code",
      "source": [
        "#Ingrese el código aquí\n",
        "saldo1=32356\n",
        "saldo2=45215\n",
        "saldo3=55628\n",
        "saldo4=63589\n",
        "saldo5=58975\n",
        "mensaje_saldo1= f\"el saldo actual del cliente {nom1} es: ${saldo:,.2f}\"\n",
        "mensaje_saldo2= f\"el saldo actual del cliente {nom2} es: ${saldo2:,.2f}\"\n",
        "mensaje_saldo3= f\"el saldo actual del cliente {nom3} es: ${saldo3:,.2f}\"\n",
        "mensaje_saldo4= f\"el saldo actual del cliente {nom4} es: ${saldo4:,.2f}\"\n",
        "mensaje_saldo5= f\"el saldo actual del cliente {nom5} es: ${saldo5:,.2f}\"\n",
        "print(mensaje_saldo1)\n",
        "print(mensaje_saldo2)\n",
        "print(mensaje_saldo3)\n",
        "print(mensaje_saldo4)\n",
        "print(mensaje_saldo5)"
      ],
      "metadata": {
        "id": "NPlztw_KYTzL",
        "outputId": "008dd0c1-e2b2-4df9-a1e4-0612c6597f81",
        "colab": {
          "base_uri": "https://localhost:8080/"
        }
      },
      "execution_count": 14,
      "outputs": [
        {
          "output_type": "stream",
          "name": "stdout",
          "text": [
            "el saldo actual del cliente Sara Garcia es: $32,356.00\n",
            "el saldo actual del cliente Sofia Herrera es: $45,215.00\n",
            "el saldo actual del cliente Juan Salazar es: $55,628.00\n",
            "el saldo actual del cliente Santiago Marin es: $63,589.00\n",
            "el saldo actual del cliente Cristian Giraldo es: $58,975.00\n"
          ]
        }
      ]
    },
    {
      "cell_type": "code",
      "source": [
        "# Ejercicio 5: Entrada de Datos\n",
        "# Contexto: Un cliente ingresa su número de identificación para consultar su estado de cuenta. crea para cada cliente una variable de identificacion\n",
        "id_cliente = input(\"Ingrese su número de identificación: \")\n",
        "print(\"ID registrado:\", id_cliente)"
      ],
      "metadata": {
        "id": "I7yQTuYqYcIJ",
        "outputId": "e001e3de-1111-4e8d-8cbf-341c6f16b32e",
        "colab": {
          "base_uri": "https://localhost:8080/"
        }
      },
      "execution_count": 16,
      "outputs": [
        {
          "output_type": "stream",
          "name": "stdout",
          "text": [
            "Ingrese su número de identificación: 448525588\n",
            "ID registrado: 448525588\n"
          ]
        }
      ]
    },
    {
      "cell_type": "markdown",
      "source": [
        "Resultado"
      ],
      "metadata": {
        "id": "7vzKHerGYgpt"
      }
    },
    {
      "cell_type": "code",
      "source": [
        "#inserte código aqui"
      ],
      "metadata": {
        "id": "puoOr2v2Yhz5"
      },
      "execution_count": null,
      "outputs": []
    },
    {
      "cell_type": "code",
      "source": [
        "# Ejercicio 6: Variables Booleanas\n",
        "# Contexto: Validar si un cliente tiene derecho a un préstamo. crea tres ejercicios con variables booleanas\n",
        "ingresos_mensuales1 = 3000\n",
        "ingresos_mensuales2 = 2500\n",
        "ingresos_mensuales3 = 4500\n",
        "historial_crediticio = True\n",
        "es_aprobado = ingresos_mensuales > 2500 and historial_crediticio\n",
        "es_aprobado2 = ingresos_mensuales2 > 2500 and historial_crediticio\n",
        "es_aprobado3 = ingresos_mensuales3 > 2500 and historial_crediticio\n",
        "print(\"¿El cliente es aprobado para el préstamo?:\", es_aprobado)\n",
        "print(\"¿El cliente es aprobado para el préstamp?\", es_aprobado2)\n",
        "print(\"¿El cliente es aprobado para el préstamo?\", es_aprobado3)"
      ],
      "metadata": {
        "id": "_zpACyy_YzZ4",
        "outputId": "65d7cb3a-91bf-4dd0-9794-d18cffb544f3",
        "colab": {
          "base_uri": "https://localhost:8080/"
        }
      },
      "execution_count": 17,
      "outputs": [
        {
          "output_type": "stream",
          "name": "stdout",
          "text": [
            "¿El cliente es aprobado para el préstamo?: True\n",
            "¿El cliente es aprobado para el préstamp? False\n",
            "¿El cliente es aprobado para el préstamo? True\n"
          ]
        }
      ]
    }
  ]
}